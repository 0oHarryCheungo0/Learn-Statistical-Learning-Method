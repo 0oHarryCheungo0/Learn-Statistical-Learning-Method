{
  "nbformat": 4,
  "nbformat_minor": 0,
  "metadata": {
    "colab": {
      "name": "KNN.ipynb",
      "version": "0.3.2",
      "provenance": [],
      "collapsed_sections": []
    },
    "language_info": {
      "codemirror_mode": {
        "name": "ipython",
        "version": 3
      },
      "file_extension": ".py",
      "mimetype": "text/x-python",
      "name": "python",
      "nbconvert_exporter": "python",
      "pygments_lexer": "ipython3",
      "version": "3.6.2"
    },
    "kernelspec": {
      "display_name": "Python 3",
      "language": "python",
      "name": "python3"
    }
  },
  "cells": [
    {
      "cell_type": "markdown",
      "metadata": {
        "id": "kkAcociwf9Y3",
        "colab_type": "text"
      },
      "source": [
        "#  第3章 k近邻法"
      ]
    },
    {
      "cell_type": "code",
      "metadata": {
        "id": "tfyS6ufGf9Y5",
        "colab_type": "code",
        "colab": {}
      },
      "source": [
        "import numpy as np\n",
        "import pandas as pd\n",
        "import matplotlib.pyplot as plt\n",
        "import pprint\n",
        "\n",
        "from sklearn.datasets import load_iris\n",
        "from sklearn.model_selection import train_test_split\n",
        "\n",
        "from collections import Counter\n",
        "%matplotlib inline"
      ],
      "execution_count": 0,
      "outputs": []
    },
    {
      "cell_type": "markdown",
      "metadata": {
        "id": "pO7DjPbxOWfV",
        "colab_type": "text"
      },
      "source": [
        "## KNN"
      ]
    },
    {
      "cell_type": "markdown",
      "metadata": {
        "id": "A4m_-DcEf9Y4",
        "colab_type": "text"
      },
      "source": [
        "#### 距离度量"
      ]
    },
    {
      "cell_type": "markdown",
      "metadata": {
        "id": "foi6L24Qf9Y8",
        "colab_type": "text"
      },
      "source": [
        "**distance**:  \n",
        "$ L_{p}\\left(x_{i}, x_{j}\\right)=\\left(\\sum_{l=1}^{n}\\left|x_{i}^{(l)}-x_{j}^{(l)}\\right|^{p}\\right)^{\\frac{1}{p}}$"
      ]
    },
    {
      "cell_type": "code",
      "metadata": {
        "id": "WNLAMMfDf9Y8",
        "colab_type": "code",
        "colab": {}
      },
      "source": [
        "def distance(x, y, p=2):\n",
        "    \"\"\"calculate type of P distance between two points.\n",
        "    input:\n",
        "        x: N*M shape array.\n",
        "        y: 1*M shape array.\n",
        "        p: type of distance\n",
        "        \n",
        "    output:\n",
        "        N*1 shape of distance between x and y.\n",
        "    \"\"\"\n",
        "    try:\n",
        "        dis = np.power(np.sum(np.power(np.abs((x - y)), p), 1), 1/p)\n",
        "    except:\n",
        "        dis = np.power(np.sum(np.power(np.abs((x - y)), p)), 1/p)\n",
        "    \n",
        "    return dis"
      ],
      "execution_count": 0,
      "outputs": []
    },
    {
      "cell_type": "code",
      "metadata": {
        "id": "AkRiIfTQf9ZI",
        "colab_type": "code",
        "colab": {}
      },
      "source": [
        "# load toy data\n",
        "iris = load_iris()\n",
        "df = pd.DataFrame(iris.data, columns=iris.feature_names)\n",
        "df['label'] = iris.target\n",
        "df.columns = ['sepal length', 'sepal width', 'petal length', 'petal width', 'label']"
      ],
      "execution_count": 0,
      "outputs": []
    },
    {
      "cell_type": "code",
      "metadata": {
        "id": "DnrG4bOCf9ZK",
        "colab_type": "code",
        "outputId": "7dc40b81-228d-49ca-eb2c-498cf6f279d8",
        "colab": {
          "base_uri": "https://localhost:8080/",
          "height": 204
        }
      },
      "source": [
        "df.head()"
      ],
      "execution_count": 53,
      "outputs": [
        {
          "output_type": "execute_result",
          "data": {
            "text/html": [
              "<div>\n",
              "<style scoped>\n",
              "    .dataframe tbody tr th:only-of-type {\n",
              "        vertical-align: middle;\n",
              "    }\n",
              "\n",
              "    .dataframe tbody tr th {\n",
              "        vertical-align: top;\n",
              "    }\n",
              "\n",
              "    .dataframe thead th {\n",
              "        text-align: right;\n",
              "    }\n",
              "</style>\n",
              "<table border=\"1\" class=\"dataframe\">\n",
              "  <thead>\n",
              "    <tr style=\"text-align: right;\">\n",
              "      <th></th>\n",
              "      <th>sepal length</th>\n",
              "      <th>sepal width</th>\n",
              "      <th>petal length</th>\n",
              "      <th>petal width</th>\n",
              "      <th>label</th>\n",
              "    </tr>\n",
              "  </thead>\n",
              "  <tbody>\n",
              "    <tr>\n",
              "      <th>0</th>\n",
              "      <td>5.1</td>\n",
              "      <td>3.5</td>\n",
              "      <td>1.4</td>\n",
              "      <td>0.2</td>\n",
              "      <td>0</td>\n",
              "    </tr>\n",
              "    <tr>\n",
              "      <th>1</th>\n",
              "      <td>4.9</td>\n",
              "      <td>3.0</td>\n",
              "      <td>1.4</td>\n",
              "      <td>0.2</td>\n",
              "      <td>0</td>\n",
              "    </tr>\n",
              "    <tr>\n",
              "      <th>2</th>\n",
              "      <td>4.7</td>\n",
              "      <td>3.2</td>\n",
              "      <td>1.3</td>\n",
              "      <td>0.2</td>\n",
              "      <td>0</td>\n",
              "    </tr>\n",
              "    <tr>\n",
              "      <th>3</th>\n",
              "      <td>4.6</td>\n",
              "      <td>3.1</td>\n",
              "      <td>1.5</td>\n",
              "      <td>0.2</td>\n",
              "      <td>0</td>\n",
              "    </tr>\n",
              "    <tr>\n",
              "      <th>4</th>\n",
              "      <td>5.0</td>\n",
              "      <td>3.6</td>\n",
              "      <td>1.4</td>\n",
              "      <td>0.2</td>\n",
              "      <td>0</td>\n",
              "    </tr>\n",
              "  </tbody>\n",
              "</table>\n",
              "</div>"
            ],
            "text/plain": [
              "   sepal length  sepal width  petal length  petal width  label\n",
              "0           5.1          3.5           1.4          0.2      0\n",
              "1           4.9          3.0           1.4          0.2      0\n",
              "2           4.7          3.2           1.3          0.2      0\n",
              "3           4.6          3.1           1.5          0.2      0\n",
              "4           5.0          3.6           1.4          0.2      0"
            ]
          },
          "metadata": {
            "tags": []
          },
          "execution_count": 53
        }
      ]
    },
    {
      "cell_type": "code",
      "metadata": {
        "id": "2OtLSARVf9ZN",
        "colab_type": "code",
        "outputId": "eed126b4-594c-4536-909a-55d8ad33de2d",
        "colab": {
          "base_uri": "https://localhost:8080/",
          "height": 301
        }
      },
      "source": [
        "# plot dataset\n",
        "\n",
        "plt.scatter(df[:50]['sepal length'], df[:50]['sepal width'], label='0')\n",
        "plt.scatter(df[50:100]['sepal length'], df[50:100]['sepal width'], label='1')\n",
        "plt.xlabel('sepal length')\n",
        "plt.ylabel('sepal width')\n",
        "plt.legend()"
      ],
      "execution_count": 54,
      "outputs": [
        {
          "output_type": "execute_result",
          "data": {
            "text/plain": [
              "<matplotlib.legend.Legend at 0x7fbb467553c8>"
            ]
          },
          "metadata": {
            "tags": []
          },
          "execution_count": 54
        },
        {
          "output_type": "display_data",
          "data": {
            "image/png": "[encoded data removed]",
            "text/plain": [
              "<Figure size 432x288 with 1 Axes>"
            ]
          },
          "metadata": {
            "tags": []
          }
        }
      ]
    },
    {
      "cell_type": "code",
      "metadata": {
        "id": "fJ4oYgrUf9ZQ",
        "colab_type": "code",
        "colab": {}
      },
      "source": [
        "# X, y\n",
        "data = np.array(df.iloc[:100, [0, 1, -1]])\n",
        "X, y = data[:,:-1], data[:,-1]\n",
        "X_train, X_test, y_train, y_test = train_test_split(X, y, test_size=0.2)"
      ],
      "execution_count": 0,
      "outputs": []
    },
    {
      "cell_type": "code",
      "metadata": {
        "id": "fa9w8eBJf9ZS",
        "colab_type": "code",
        "colab": {}
      },
      "source": [
        "class KNN:\n",
        "    \"\"\"\n",
        "    KNN implementation of violence to calculate.\n",
        "    \"\"\"\n",
        "    def __init__(self, X_train, y_train, n_neighbors=3, p=2):\n",
        "        \"\"\"\n",
        "        n_neighbors: k\n",
        "                  p: type of distance\n",
        "        \"\"\"\n",
        "        self.k = n_neighbors\n",
        "        self.p = p\n",
        "        self.X_train = X_train\n",
        "        self.y_train = y_train\n",
        "    \n",
        "    def predict(self, X):\n",
        "        diss = distance(X_train, X, self.p) # cal distance, N*1\n",
        "        diss_zip_y_sorted = sorted(zip(diss, self.y_train)) # sort by distance, with label\n",
        "        top_k = diss_zip_y_sorted[:self.k] # select top k distance with label\n",
        "        top_k_y = [z[1] for z in top_k] # pick out labels\n",
        "        counter = Counter(top_k_y) # counter times of labels\n",
        "        label = counter.most_common()[0][0] # the most times of labels\n",
        "        return label\n",
        "    \n",
        "    def score(self, X_test, y_test):\n",
        "        right_count = 0\n",
        "        for X, y in zip(X_test, y_test):\n",
        "            label = self.predict(X)\n",
        "            if label == y:\n",
        "                right_count += 1\n",
        "        return right_count / len(X_test)"
      ],
      "execution_count": 0,
      "outputs": []
    },
    {
      "cell_type": "code",
      "metadata": {
        "id": "FGpKb23Ef9ZU",
        "colab_type": "code",
        "colab": {}
      },
      "source": [
        "clf = KNN(X_train, y_train) "
      ],
      "execution_count": 0,
      "outputs": []
    },
    {
      "cell_type": "code",
      "metadata": {
        "id": "K3NqSBrBf9ZW",
        "colab_type": "code",
        "outputId": "52c3aef5-7fdf-4b45-c4bb-fcc9da68beba",
        "colab": {
          "base_uri": "https://localhost:8080/",
          "height": 35
        }
      },
      "source": [
        "clf.score(X_test, y_test) # test on testset"
      ],
      "execution_count": 58,
      "outputs": [
        {
          "output_type": "execute_result",
          "data": {
            "text/plain": [
              "1.0"
            ]
          },
          "metadata": {
            "tags": []
          },
          "execution_count": 58
        }
      ]
    },
    {
      "cell_type": "code",
      "metadata": {
        "id": "BkMKHgI8f9ZZ",
        "colab_type": "code",
        "outputId": "64b3832e-9f99-4555-c9c3-987fed86b67c",
        "colab": {
          "base_uri": "https://localhost:8080/",
          "height": 35
        }
      },
      "source": [
        "# test a single point \n",
        "\n",
        "test_point = [5.6, 2.5]\n",
        "print('Test Point: {}'.format(clf.predict(test_point)))"
      ],
      "execution_count": 59,
      "outputs": [
        {
          "output_type": "stream",
          "text": [
            "Test Point: 1.0\n"
          ],
          "name": "stdout"
        }
      ]
    },
    {
      "cell_type": "code",
      "metadata": {
        "id": "gHo2OpWPf9Zb",
        "colab_type": "code",
        "outputId": "617e340d-6186-4369-8f93-e87ad7baf58e",
        "colab": {
          "base_uri": "https://localhost:8080/",
          "height": 301
        }
      },
      "source": [
        "plt.scatter(df[:50]['sepal length'], df[:50]['sepal width'], label='0')\n",
        "plt.scatter(df[50:100]['sepal length'], df[50:100]['sepal width'], label='1')\n",
        "plt.plot(test_point[0], test_point[1], 'bo', label='test_point')\n",
        "plt.xlabel('sepal length')\n",
        "plt.ylabel('sepal width')\n",
        "plt.legend()"
      ],
      "execution_count": 60,
      "outputs": [
        {
          "output_type": "execute_result",
          "data": {
            "text/plain": [
              "<matplotlib.legend.Legend at 0x7fbb466682b0>"
            ]
          },
          "metadata": {
            "tags": []
          },
          "execution_count": 60
        },
        {
          "output_type": "display_data",
          "data": {
            "image/png": "[encoded data removed]",
            "text/plain": [
              "<Figure size 432x288 with 1 Axes>"
            ]
          },
          "metadata": {
            "tags": []
          }
        }
      ]
    },
    {
      "cell_type": "markdown",
      "metadata": {
        "id": "pRlHhneRzW8r",
        "colab_type": "text"
      },
      "source": [
        "#### seems like everything is ok~~~"
      ]
    },
    {
      "cell_type": "markdown",
      "metadata": {
        "id": "MyTcfa78f9Zf",
        "colab_type": "text"
      },
      "source": [
        "## scikitlearn"
      ]
    },
    {
      "cell_type": "code",
      "metadata": {
        "id": "t1YSreNEf9Zf",
        "colab_type": "code",
        "colab": {}
      },
      "source": [
        "from sklearn.neighbors import KNeighborsClassifier"
      ],
      "execution_count": 0,
      "outputs": []
    },
    {
      "cell_type": "code",
      "metadata": {
        "id": "C7pT4EVsf9Zi",
        "colab_type": "code",
        "outputId": "c1ce88ea-4ed2-4c7c-fee9-04f36774b5af",
        "colab": {
          "base_uri": "https://localhost:8080/",
          "height": 71
        }
      },
      "source": [
        "clf_sk = KNeighborsClassifier()\n",
        "clf_sk.fit(X_train, y_train)"
      ],
      "execution_count": 62,
      "outputs": [
        {
          "output_type": "execute_result",
          "data": {
            "text/plain": [
              "KNeighborsClassifier(algorithm='auto', leaf_size=30, metric='minkowski',\n",
              "                     metric_params=None, n_jobs=None, n_neighbors=5, p=2,\n",
              "                     weights='uniform')"
            ]
          },
          "metadata": {
            "tags": []
          },
          "execution_count": 62
        }
      ]
    },
    {
      "cell_type": "code",
      "metadata": {
        "id": "N17NEbSqf9Zl",
        "colab_type": "code",
        "outputId": "cd28eaf4-e72a-4a72-f416-f63bc04ed01b",
        "colab": {
          "base_uri": "https://localhost:8080/",
          "height": 35
        }
      },
      "source": [
        "clf_sk.score(X_test, y_test)"
      ],
      "execution_count": 63,
      "outputs": [
        {
          "output_type": "execute_result",
          "data": {
            "text/plain": [
              "1.0"
            ]
          },
          "metadata": {
            "tags": []
          },
          "execution_count": 63
        }
      ]
    },
    {
      "cell_type": "markdown",
      "metadata": {
        "id": "9y79xayBf9Zq",
        "colab_type": "text"
      },
      "source": [
        "## kd树"
      ]
    },
    {
      "cell_type": "markdown",
      "metadata": {
        "id": "k_fSjR7pOr1t",
        "colab_type": "text"
      },
      "source": [
        "### 构建kd树"
      ]
    },
    {
      "cell_type": "code",
      "metadata": {
        "id": "69mplm2Tf9Zq",
        "colab_type": "code",
        "colab": {}
      },
      "source": [
        "# 算法3.2 平衡kd树\n",
        "\n",
        "class KdTree:\n",
        "    \"\"\"\n",
        "    build kdtree recursively along axis, split on median point.\n",
        "    k:      k dimensions\n",
        "    method: alternate/variance, 坐标轴轮替或最大方差轴\n",
        "    \"\"\"\n",
        "    \n",
        "    def __init__(self, k=2, method='alternate'):\n",
        "        self.k = k\n",
        "        self.method = method\n",
        "        \n",
        "    def build(self, points, depth=0):\n",
        "        n = len(points)\n",
        "        if n <= 0:\n",
        "            return None\n",
        "        \n",
        "        if self.method == 'alternate':\n",
        "            axis = depth % self.k\n",
        "        elif self.method == 'variance':\n",
        "            axis = np.argmax(np.var(points, axis=0), axis=0)\n",
        "        \n",
        "        sorted_points = sorted(points, key=lambda point: point[axis])\n",
        "        \n",
        "        return {\n",
        "            'point': sorted_points[n // 2],\n",
        "            'left': self.build(sorted_points[:n//2], depth+1),\n",
        "            'right': self.build(sorted_points[n//2+1:], depth+1)\n",
        "        }"
      ],
      "execution_count": 0,
      "outputs": []
    },
    {
      "cell_type": "markdown",
      "metadata": {
        "id": "BOPlfGTKf9Zu",
        "colab_type": "text"
      },
      "source": [
        "#### 例3.2"
      ]
    },
    {
      "cell_type": "code",
      "metadata": {
        "id": "3W0H8H5Pf9Zu",
        "colab_type": "code",
        "colab": {}
      },
      "source": [
        "data = np.array([[2,3],[5,4],[9,6],[4,7],[8,1],[7,2]])\n",
        "\n",
        "kd1 = KdTree(k=2, method='alternate')\n",
        "tree1 = kd1.build(data)\n",
        "\n",
        "kd2 = KdTree(k=2, method='variance')\n",
        "tree2 = kd2.build(data)"
      ],
      "execution_count": 0,
      "outputs": []
    },
    {
      "cell_type": "code",
      "metadata": {
        "id": "HVMOPjgqDdsG",
        "colab_type": "code",
        "outputId": "46b6704b-ebda-4fa7-bbf5-c85b7ea2d688",
        "colab": {
          "base_uri": "https://localhost:8080/",
          "height": 143
        }
      },
      "source": [
        "# friendly print\n",
        "\n",
        "pp = pprint.PrettyPrinter(indent=4)\n",
        "pp.pprint(tree1) # equal to figure. 3.4 《统计学习方法》"
      ],
      "execution_count": 66,
      "outputs": [
        {
          "output_type": "stream",
          "text": [
            "{   'left': {   'left': {'left': None, 'point': array([2, 3]), 'right': None},\n",
            "                'point': array([5, 4]),\n",
            "                'right': {'left': None, 'point': array([4, 7]), 'right': None}},\n",
            "    'point': array([7, 2]),\n",
            "    'right': {   'left': {'left': None, 'point': array([8, 1]), 'right': None},\n",
            "                 'point': array([9, 6]),\n",
            "                 'right': None}}\n"
          ],
          "name": "stdout"
        }
      ]
    },
    {
      "cell_type": "code",
      "metadata": {
        "id": "cdynMHq9KlYW",
        "colab_type": "code",
        "outputId": "2cf0d9d6-9f71-4b63-bc50-d64e9d2b0f6f",
        "colab": {
          "base_uri": "https://localhost:8080/",
          "height": 143
        }
      },
      "source": [
        "pp.pprint(tree2) # 在该数据集上两种方法结果一样"
      ],
      "execution_count": 67,
      "outputs": [
        {
          "output_type": "stream",
          "text": [
            "{   'left': {   'left': {'left': None, 'point': array([2, 3]), 'right': None},\n",
            "                'point': array([5, 4]),\n",
            "                'right': {'left': None, 'point': array([4, 7]), 'right': None}},\n",
            "    'point': array([7, 2]),\n",
            "    'right': {   'left': {'left': None, 'point': array([8, 1]), 'right': None},\n",
            "                 'point': array([9, 6]),\n",
            "                 'right': None}}\n"
          ],
          "name": "stdout"
        }
      ]
    },
    {
      "cell_type": "markdown",
      "metadata": {
        "id": "3YfbHsHPO1Es",
        "colab_type": "text"
      },
      "source": [
        "### 查找kd树"
      ]
    },
    {
      "cell_type": "code",
      "metadata": {
        "id": "ZT7MwyTlUaVJ",
        "colab_type": "code",
        "colab": {}
      },
      "source": [
        "class SearchKdTree:\n",
        "    \"\"\"\n",
        "    search closest point\n",
        "    \"\"\"\n",
        "    def __init__(self, k=2):\n",
        "        self.k = k\n",
        "        \n",
        "    def __closer_distance(self, pivot, p1, p2):\n",
        "        if p1 is None:\n",
        "            return p2\n",
        "        if p2 is None:\n",
        "            return p1\n",
        "        \n",
        "        d1 = distance(pivot, p1)\n",
        "        d2 = distance(pivot, p2)\n",
        "\n",
        "        if d1 < d2:\n",
        "            return p1\n",
        "        else:\n",
        "            return p2\n",
        "    \n",
        "    def fit(self, root, point, depth=0):\n",
        "        if root is None:\n",
        "            return None\n",
        "        \n",
        "        axis = depth % self.k\n",
        "        \n",
        "        next_branch = None\n",
        "        opposite_branch = None\n",
        "        \n",
        "        if point[axis] < root['point'][axis]:\n",
        "            next_branch = root['left']\n",
        "            opposite_branch = root['right']\n",
        "        else:\n",
        "            next_branch = root['right']\n",
        "            opposite_branch = root['left']\n",
        "            \n",
        "        best = self.__closer_distance(point,\n",
        "                                     self.fit(next_branch,\n",
        "                                             point,\n",
        "                                             depth+1),\n",
        "                                     root['point'])\n",
        "        \n",
        "        if distance(point, best) > abs(point[axis] - root['point'][axis]):\n",
        "            best = self.__closer_distance(point,\n",
        "                                     self.fit(opposite_branch,\n",
        "                                             point,\n",
        "                                             depth+1),\n",
        "                                     best)\n",
        "            \n",
        "        return best"
      ],
      "execution_count": 0,
      "outputs": []
    },
    {
      "cell_type": "code",
      "metadata": {
        "id": "fPVguOtoLEk5",
        "colab_type": "code",
        "colab": {
          "base_uri": "https://localhost:8080/",
          "height": 35
        },
        "outputId": "212fbc83-0dd0-4160-f5dd-f7e3eadce818"
      },
      "source": [
        "# test\n",
        "point = [3.,4.5]\n",
        "\n",
        "search = SearchKdTree()\n",
        "best = search.fit(tree1, point, depth=0)\n",
        "print(best)"
      ],
      "execution_count": 197,
      "outputs": [
        {
          "output_type": "stream",
          "text": [
            "[2 3]\n"
          ],
          "name": "stdout"
        }
      ]
    },
    {
      "cell_type": "code",
      "metadata": {
        "id": "YXW7Q5kzbCrn",
        "colab_type": "code",
        "colab": {
          "base_uri": "https://localhost:8080/",
          "height": 35
        },
        "outputId": "59b2a647-c84e-4f46-8c04-47a6a1cad657"
      },
      "source": [
        "# force computing\n",
        "def force(points, point):\n",
        "    dis = np.power(np.sum(np.power(np.abs((points - point)), 2), 1), 1/2)\n",
        "    idx = np.argmin(dis, axis=0)\n",
        "    return points[idx]\n",
        "print(force(data, point))"
      ],
      "execution_count": 199,
      "outputs": [
        {
          "output_type": "stream",
          "text": [
            "[2 3]\n"
          ],
          "name": "stdout"
        }
      ]
    },
    {
      "cell_type": "markdown",
      "metadata": {
        "id": "cLP3E9ftLoku",
        "colab_type": "text"
      },
      "source": [
        "### test time cost between force and kd-tree"
      ]
    },
    {
      "cell_type": "code",
      "metadata": {
        "id": "wR827KmIf9Z1",
        "colab_type": "code",
        "colab": {}
      },
      "source": [
        "from time import time"
      ],
      "execution_count": 0,
      "outputs": []
    },
    {
      "cell_type": "code",
      "metadata": {
        "id": "OywsDPeFf9Z3",
        "colab_type": "code",
        "colab": {
          "base_uri": "https://localhost:8080/",
          "height": 35
        },
        "outputId": "b7c042eb-8dc6-4e4c-99cc-75e82a3d052d"
      },
      "source": [
        "# generate sample points\n",
        "N = 500000\n",
        "K = 5\n",
        "points = np.random.randint(15, size=(N, K))\n",
        "print('points shape:{}'.format(points.shape))"
      ],
      "execution_count": 209,
      "outputs": [
        {
          "output_type": "stream",
          "text": [
            "points shape:(500000, 5)\n"
          ],
          "name": "stdout"
        }
      ]
    },
    {
      "cell_type": "code",
      "metadata": {
        "id": "g775x9ATUjig",
        "colab_type": "code",
        "colab": {}
      },
      "source": [
        "# build tree\n",
        "kd_tree = KdTree(k=K, method='alternate')\n",
        "tree = kd_tree.build(points)"
      ],
      "execution_count": 0,
      "outputs": []
    },
    {
      "cell_type": "code",
      "metadata": {
        "id": "yTjzO2HWcDzB",
        "colab_type": "code",
        "colab": {
          "base_uri": "https://localhost:8080/",
          "height": 35
        },
        "outputId": "4fe33339-0b91-4461-d3ad-2a12e941d7e3"
      },
      "source": [
        "# generate test point\n",
        "#test_point = np.random.randint(10, size=(K))\n",
        "test_point = [14., 3.5, 10.6, 7.2, 9.2]\n",
        "print('test point: {}'.format(test_point))"
      ],
      "execution_count": 215,
      "outputs": [
        {
          "output_type": "stream",
          "text": [
            "test point: [14.0, 3.5, 10.6, 7.2, 9.2]\n"
          ],
          "name": "stdout"
        }
      ]
    },
    {
      "cell_type": "code",
      "metadata": {
        "id": "Z_gLx8zHU7WH",
        "colab_type": "code",
        "colab": {
          "base_uri": "https://localhost:8080/",
          "height": 35
        },
        "outputId": "6bd5e6c3-b836-4d72-90d5-461d4a4f72a2"
      },
      "source": [
        "#search point\n",
        "\n",
        "start = time()\n",
        "seah = SearchKdTree()\n",
        "best = seah.fit(tree, test_point, depth=0)\n",
        "end = time()\n",
        "dist = distance(test_point, best)\n",
        "print('best point:{}, distance:{}, time cost:{}'.format(best, dist, end - start))"
      ],
      "execution_count": 216,
      "outputs": [
        {
          "output_type": "stream",
          "text": [
            "best point:[14  3 11  7  9], distance:0.7000000000000001, time cost:0.5057861804962158\n"
          ],
          "name": "stdout"
        }
      ]
    },
    {
      "cell_type": "code",
      "metadata": {
        "id": "NAazqgu8TsRV",
        "colab_type": "code",
        "colab": {
          "base_uri": "https://localhost:8080/",
          "height": 35
        },
        "outputId": "61b2ff9d-e814-4f0c-84b5-a414802e3525"
      },
      "source": [
        "# force computing\n",
        "\n",
        "start = time()\n",
        "best = force(points, test_point)\n",
        "end = time()\n",
        "dist = distance(test_point, best)\n",
        "print('best point:{}, distance:{}, time cost:{}'.format(best, dist, end - start))"
      ],
      "execution_count": 217,
      "outputs": [
        {
          "output_type": "stream",
          "text": [
            "best point:[14  3 11  7  9], distance:0.7000000000000001, time cost:0.10567831993103027\n"
          ],
          "name": "stdout"
        }
      ]
    },
    {
      "cell_type": "markdown",
      "metadata": {
        "id": "sKa7RDNdcbwy",
        "colab_type": "text"
      },
      "source": [
        "##### 看上去，相比于在大量的数据点中寻找与目标最近的点，kd树不需要一个个查找,O(n)的复杂的，看上去确实效率提高了。但是！对于numpy来说，numpy的矩阵运算是常量时间复杂度O(1)，效率极高。在内存许可的情况下，可以快速查找出符合要求的点, 速度比kd树还快, 从上面的时间消耗可以看出。"
      ]
    },
    {
      "cell_type": "markdown",
      "metadata": {
        "id": "FrtByLpAMBAr",
        "colab_type": "text"
      },
      "source": [
        "## Reference\n",
        "* 李航 《统计学习方法》  \n",
        "* https://github.com/fengdu78/lihang-code/blob/master/code/%E7%AC%AC3%E7%AB%A0%20k%E8%BF%91%E9%82%BB%E6%B3%95(KNearestNeighbors)/KNN.ipynb  \n",
        "* https://www.youtube.com/watch?v=u4M5rRYwRHs&t=449s  \n",
        "* https://www.youtube.com/watch?v=XqXSGSKc8NU&t=335s  \n",
        "* https://www.youtube.com/watch?v=DlPrTGbO19E  "
      ]
    }
  ]
}