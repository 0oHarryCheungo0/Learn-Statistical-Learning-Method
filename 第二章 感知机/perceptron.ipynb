{
  "nbformat": 4,
  "nbformat_minor": 0,
  "metadata": {
    "colab": {
      "name": "perceptron.ipynb",
      "version": "0.3.2",
      "provenance": [],
      "collapsed_sections": [],
      "toc_visible": true
    },
    "language_info": {
      "codemirror_mode": {
        "name": "ipython",
        "version": 3
      },
      "file_extension": ".py",
      "mimetype": "text/x-python",
      "name": "python",
      "nbconvert_exporter": "python",
      "pygments_lexer": "ipython3",
      "version": "3.6.2"
    },
    "kernelspec": {
      "display_name": "Python 3",
      "language": "python",
      "name": "python3"
    }
  },
  "cells": [
    {
      "cell_type": "markdown",
      "metadata": {
        "id": "2Rs9taXvrXIX",
        "colab_type": "text"
      },
      "source": [
        "# 第2章 感知机\n",
        "\n",
        "二分类模型"
      ]
    },
    {
      "cell_type": "markdown",
      "metadata": {
        "id": "qxcj1YbyrXIY",
        "colab_type": "text"
      },
      "source": [
        "$f(x) = sign(w*x + b)$\n",
        "\n",
        "损失函数 $L(w, b) = -\\Sigma{y_{i}(w*x_{i} + b)}$\n",
        "\n",
        "---\n",
        "#### 算法\n",
        "\n",
        "随即梯度下降法 Stochastic Gradient Descent\n",
        "\n",
        "随机抽取一个误分类点使其梯度下降。\n",
        "\n",
        "$w = w + \\eta y_{i}x_{i}$\n",
        "\n",
        "$b = b + \\eta y_{i}$\n",
        "\n",
        "当实例点被误分类，即位于分离超平面的错误侧，则调整w, b的值，使分离超平面向该无分类点的一侧移动，直至误分类点被正确分类"
      ]
    },
    {
      "cell_type": "markdown",
      "metadata": {
        "id": "kTw0KxLQrXIZ",
        "colab_type": "text"
      },
      "source": [
        "拿出iris数据集中两个分类的数据和[sepal length，sepal width]作为特征"
      ]
    },
    {
      "cell_type": "code",
      "metadata": {
        "id": "Jd4gLSQZrXIa",
        "colab_type": "code",
        "colab": {}
      },
      "source": [
        "import pandas as pd\n",
        "import numpy as np\n",
        "from sklearn.datasets import load_iris\n",
        "import matplotlib.pyplot as plt\n",
        "%matplotlib inline"
      ],
      "execution_count": 0,
      "outputs": []
    },
    {
      "cell_type": "code",
      "metadata": {
        "id": "Awm6TTnwrXId",
        "colab_type": "code",
        "colab": {}
      },
      "source": [
        "# load data\n",
        "iris = load_iris()\n",
        "df = pd.DataFrame(iris.data, columns=iris.feature_names)\n",
        "df['label'] = iris.target"
      ],
      "execution_count": 0,
      "outputs": []
    },
    {
      "cell_type": "code",
      "metadata": {
        "id": "gr7UQ1VerxCv",
        "colab_type": "code",
        "colab": {
          "base_uri": "https://localhost:8080/",
          "height": 204
        },
        "outputId": "f4c3263e-08d1-4ba4-bb0f-d5e1d01f3888"
      },
      "source": [
        "df.head()"
      ],
      "execution_count": 4,
      "outputs": [
        {
          "output_type": "execute_result",
          "data": {
            "text/html": [
              "<div>\n",
              "<style scoped>\n",
              "    .dataframe tbody tr th:only-of-type {\n",
              "        vertical-align: middle;\n",
              "    }\n",
              "\n",
              "    .dataframe tbody tr th {\n",
              "        vertical-align: top;\n",
              "    }\n",
              "\n",
              "    .dataframe thead th {\n",
              "        text-align: right;\n",
              "    }\n",
              "</style>\n",
              "<table border=\"1\" class=\"dataframe\">\n",
              "  <thead>\n",
              "    <tr style=\"text-align: right;\">\n",
              "      <th></th>\n",
              "      <th>sepal length (cm)</th>\n",
              "      <th>sepal width (cm)</th>\n",
              "      <th>petal length (cm)</th>\n",
              "      <th>petal width (cm)</th>\n",
              "      <th>label</th>\n",
              "    </tr>\n",
              "  </thead>\n",
              "  <tbody>\n",
              "    <tr>\n",
              "      <th>0</th>\n",
              "      <td>5.1</td>\n",
              "      <td>3.5</td>\n",
              "      <td>1.4</td>\n",
              "      <td>0.2</td>\n",
              "      <td>0</td>\n",
              "    </tr>\n",
              "    <tr>\n",
              "      <th>1</th>\n",
              "      <td>4.9</td>\n",
              "      <td>3.0</td>\n",
              "      <td>1.4</td>\n",
              "      <td>0.2</td>\n",
              "      <td>0</td>\n",
              "    </tr>\n",
              "    <tr>\n",
              "      <th>2</th>\n",
              "      <td>4.7</td>\n",
              "      <td>3.2</td>\n",
              "      <td>1.3</td>\n",
              "      <td>0.2</td>\n",
              "      <td>0</td>\n",
              "    </tr>\n",
              "    <tr>\n",
              "      <th>3</th>\n",
              "      <td>4.6</td>\n",
              "      <td>3.1</td>\n",
              "      <td>1.5</td>\n",
              "      <td>0.2</td>\n",
              "      <td>0</td>\n",
              "    </tr>\n",
              "    <tr>\n",
              "      <th>4</th>\n",
              "      <td>5.0</td>\n",
              "      <td>3.6</td>\n",
              "      <td>1.4</td>\n",
              "      <td>0.2</td>\n",
              "      <td>0</td>\n",
              "    </tr>\n",
              "  </tbody>\n",
              "</table>\n",
              "</div>"
            ],
            "text/plain": [
              "   sepal length (cm)  sepal width (cm)  ...  petal width (cm)  label\n",
              "0                5.1               3.5  ...               0.2      0\n",
              "1                4.9               3.0  ...               0.2      0\n",
              "2                4.7               3.2  ...               0.2      0\n",
              "3                4.6               3.1  ...               0.2      0\n",
              "4                5.0               3.6  ...               0.2      0\n",
              "\n",
              "[5 rows x 5 columns]"
            ]
          },
          "metadata": {
            "tags": []
          },
          "execution_count": 4
        }
      ]
    },
    {
      "cell_type": "code",
      "metadata": {
        "id": "I09dAZWgrXIf",
        "colab_type": "code",
        "colab": {
          "base_uri": "https://localhost:8080/",
          "height": 89
        },
        "outputId": "74ab019f-9083-4b8e-9613-e690eb73c220"
      },
      "source": [
        "#\n",
        "df.columns = ['sepal length', 'sepal width', 'petal length', 'petal width', 'label']\n",
        "df.label.value_counts()"
      ],
      "execution_count": 5,
      "outputs": [
        {
          "output_type": "execute_result",
          "data": {
            "text/plain": [
              "2    50\n",
              "1    50\n",
              "0    50\n",
              "Name: label, dtype: int64"
            ]
          },
          "metadata": {
            "tags": []
          },
          "execution_count": 5
        }
      ]
    },
    {
      "cell_type": "code",
      "metadata": {
        "id": "pfXBMB1srXIj",
        "colab_type": "code",
        "colab": {
          "base_uri": "https://localhost:8080/",
          "height": 301
        },
        "outputId": "82a3d608-7576-4e5f-9e04-9913366c9f3d"
      },
      "source": [
        "# plot dataset\n",
        "plt.scatter(df[:50]['sepal length'], df[:50]['sepal width'], label='0')\n",
        "plt.scatter(df[50:100]['sepal length'], df[50:100]['sepal width'], label='1')\n",
        "plt.xlabel('sepal length')\n",
        "plt.ylabel('sepal width')\n",
        "plt.legend()"
      ],
      "execution_count": 6,
      "outputs": [
        {
          "output_type": "execute_result",
          "data": {
            "text/plain": [
              "<matplotlib.legend.Legend at 0x7f6298cbeb38>"
            ]
          },
          "metadata": {
            "tags": []
          },
          "execution_count": 6
        },
        {
          "output_type": "display_data",
          "data": {
            "image/png": "[encoded data removed]",
            "text/plain": [
              "<Figure size 432x288 with 1 Axes>"
            ]
          },
          "metadata": {
            "tags": []
          }
        }
      ]
    },
    {
      "cell_type": "code",
      "metadata": {
        "id": "G6mDw2H4rXIn",
        "colab_type": "code",
        "colab": {}
      },
      "source": [
        "# 将df前100行的第一二及最后一列作为数据集\n",
        "data = np.array(df.iloc[:100, [0, 1, -1]])\n",
        "X, y = data[:,:-1], data[:,-1]\n",
        "y = np.array([1 if i == 1 else -1 for i in y])"
      ],
      "execution_count": 0,
      "outputs": []
    },
    {
      "cell_type": "code",
      "metadata": {
        "id": "b-X8nfcrtZGZ",
        "colab_type": "code",
        "colab": {
          "base_uri": "https://localhost:8080/",
          "height": 35
        },
        "outputId": "e234c885-66c1-4d54-e3cc-368e0d4f3801"
      },
      "source": [
        "X.shape"
      ],
      "execution_count": 8,
      "outputs": [
        {
          "output_type": "execute_result",
          "data": {
            "text/plain": [
              "(100, 2)"
            ]
          },
          "metadata": {
            "tags": []
          },
          "execution_count": 8
        }
      ]
    },
    {
      "cell_type": "code",
      "metadata": {
        "id": "DEkk5QtatyKe",
        "colab_type": "code",
        "colab": {
          "base_uri": "https://localhost:8080/",
          "height": 35
        },
        "outputId": "0e0104ed-f5ae-4b98-9361-c30c48291927"
      },
      "source": [
        "y.shape"
      ],
      "execution_count": 9,
      "outputs": [
        {
          "output_type": "execute_result",
          "data": {
            "text/plain": [
              "(100,)"
            ]
          },
          "metadata": {
            "tags": []
          },
          "execution_count": 9
        }
      ]
    },
    {
      "cell_type": "markdown",
      "metadata": {
        "id": "xRat7632rXIs",
        "colab_type": "text"
      },
      "source": [
        "## Perceptron"
      ]
    },
    {
      "cell_type": "code",
      "metadata": {
        "id": "o1SudzvBrXIt",
        "colab_type": "code",
        "colab": {}
      },
      "source": [
        "# 原始形式 2.1\n",
        "class PLA:\n",
        "    def __init__(self, max_iter=1000):\n",
        "        self.b = 0\n",
        "        self.lr = 0.1\n",
        "        self.max_iter = max_iter\n",
        "        self.iter = 0\n",
        "        \n",
        "    def sign(self, x, w, b):\n",
        "        return np.dot(x, w) + b\n",
        "    \n",
        "    def fit(self, X, y):\n",
        "        N, M = X.shape\n",
        "        self.w = np.ones(M)\n",
        "        wrong_items = N # 初始错误样本个数为N,迭代到没有错误样本为止\n",
        "        print(\"fitting...\")\n",
        "        while(wrong_items):\n",
        "            self.iter += 1\n",
        "            if self.iter > self.max_iter: # 超出最大迭代次数，结束\n",
        "                break\n",
        "            wrong_items = 0\n",
        "            for i in range(N):\n",
        "                if y[i] * self.sign(X[i], self.w, self.b) <= 0:\n",
        "                    self.w += self.lr * np.dot(y[i], X[i])\n",
        "                    self.b += self.lr * y[i]\n",
        "                    wrong_items += 1\n",
        "            if wrong_items == 0:\n",
        "                print(\"finished at iters: {}, w: {}, b: {}\".format(min(self.max_iter, self.iter), self.w, self.b))"
      ],
      "execution_count": 0,
      "outputs": []
    },
    {
      "cell_type": "code",
      "metadata": {
        "id": "fEMEZ59irXIw",
        "colab_type": "code",
        "colab": {
          "base_uri": "https://localhost:8080/",
          "height": 53
        },
        "outputId": "e83b3e11-c658-4f95-8d78-6a01139b12d8"
      },
      "source": [
        "perceptron = PLA()\n",
        "perceptron.fit(X, y)"
      ],
      "execution_count": 11,
      "outputs": [
        {
          "output_type": "stream",
          "text": [
            "fitting...\n",
            "finished at iters: 679, w: [  7.8 -10. ], b: -12.099999999999973\n"
          ],
          "name": "stdout"
        }
      ]
    },
    {
      "cell_type": "code",
      "metadata": {
        "id": "wlDN4I7YrXIz",
        "colab_type": "code",
        "colab": {
          "base_uri": "https://localhost:8080/",
          "height": 301
        },
        "outputId": "22105195-39ea-4ab9-c283-9e7c4bf11cc0"
      },
      "source": [
        "x_points = np.linspace(4, 7, 10)\n",
        "y_ = -(perceptron.w[0]*x_points + perceptron.b)/perceptron.w[1]\n",
        "plt.plot(x_points, y_)\n",
        "\n",
        "plt.plot(data[:50, 0], data[:50, 1], 'bo', color='blue', label='0')\n",
        "plt.plot(data[50:100, 0], data[50:100, 1], 'bo', color='orange', label='1')\n",
        "plt.xlabel('sepal length')\n",
        "plt.ylabel('sepal width')\n",
        "plt.legend()"
      ],
      "execution_count": 12,
      "outputs": [
        {
          "output_type": "execute_result",
          "data": {
            "text/plain": [
              "<matplotlib.legend.Legend at 0x7f62963c89e8>"
            ]
          },
          "metadata": {
            "tags": []
          },
          "execution_count": 12
        },
        {
          "output_type": "display_data",
          "data": {
            "image/png": "[encoded data removed]",
            "text/plain": [
              "<Figure size 432x288 with 1 Axes>"
            ]
          },
          "metadata": {
            "tags": []
          }
        }
      ]
    },
    {
      "cell_type": "markdown",
      "metadata": {
        "id": "dAXMohlfrXI2",
        "colab_type": "text"
      },
      "source": [
        "## scikit-learn Perceptron"
      ]
    },
    {
      "cell_type": "code",
      "metadata": {
        "id": "0q8vGAs_rXI3",
        "colab_type": "code",
        "colab": {}
      },
      "source": [
        "from sklearn.linear_model import Perceptron"
      ],
      "execution_count": 0,
      "outputs": []
    },
    {
      "cell_type": "code",
      "metadata": {
        "id": "bPmV4Cb5rXI4",
        "colab_type": "code",
        "colab": {
          "base_uri": "https://localhost:8080/",
          "height": 89
        },
        "outputId": "cb9dd5dc-728f-4a4d-bdb8-62aa6e53c435"
      },
      "source": [
        "clf = Perceptron(fit_intercept=False, max_iter=1000, shuffle=False)\n",
        "clf.fit(X, y)"
      ],
      "execution_count": 27,
      "outputs": [
        {
          "output_type": "execute_result",
          "data": {
            "text/plain": [
              "Perceptron(alpha=0.0001, class_weight=None, early_stopping=False, eta0=1.0,\n",
              "           fit_intercept=False, max_iter=1000, n_iter_no_change=5, n_jobs=None,\n",
              "           penalty=None, random_state=0, shuffle=False, tol=0.001,\n",
              "           validation_fraction=0.1, verbose=0, warm_start=False)"
            ]
          },
          "metadata": {
            "tags": []
          },
          "execution_count": 27
        }
      ]
    },
    {
      "cell_type": "code",
      "metadata": {
        "id": "tYRFc938rXI7",
        "colab_type": "code",
        "colab": {
          "base_uri": "https://localhost:8080/",
          "height": 35
        },
        "outputId": "74709acf-dc9d-42c3-f0c6-ec97f93f2763"
      },
      "source": [
        "# Weights assigned to the features.\n",
        "clf.coef_"
      ],
      "execution_count": 15,
      "outputs": [
        {
          "output_type": "execute_result",
          "data": {
            "text/plain": [
              "array([[ 28.7, -37.2]])"
            ]
          },
          "metadata": {
            "tags": []
          },
          "execution_count": 15
        }
      ]
    },
    {
      "cell_type": "code",
      "metadata": {
        "id": "ms-p2flmrXI9",
        "colab_type": "code",
        "colab": {
          "base_uri": "https://localhost:8080/",
          "height": 35
        },
        "outputId": "6a2be9e0-31a5-431e-c0a4-c9f0dc33db43"
      },
      "source": [
        "# 截距 Constants in decision function.\n",
        "clf.intercept_"
      ],
      "execution_count": 16,
      "outputs": [
        {
          "output_type": "execute_result",
          "data": {
            "text/plain": [
              "array([-11.])"
            ]
          },
          "metadata": {
            "tags": []
          },
          "execution_count": 16
        }
      ]
    },
    {
      "cell_type": "code",
      "metadata": {
        "id": "glwfUSJX3XfQ",
        "colab_type": "code",
        "colab": {
          "base_uri": "https://localhost:8080/",
          "height": 35
        },
        "outputId": "51d5e9f2-a15d-45e5-b374-a6e799727bd4"
      },
      "source": [
        "clf.n_iter_"
      ],
      "execution_count": 28,
      "outputs": [
        {
          "output_type": "execute_result",
          "data": {
            "text/plain": [
              "27"
            ]
          },
          "metadata": {
            "tags": []
          },
          "execution_count": 28
        }
      ]
    },
    {
      "cell_type": "code",
      "metadata": {
        "id": "wLPY7J68rXJA",
        "colab_type": "code",
        "colab": {
          "base_uri": "https://localhost:8080/",
          "height": 301
        },
        "outputId": "97829c1f-06bc-4618-e304-587e9a148fae"
      },
      "source": [
        "x_ponits = np.arange(4, 8)\n",
        "y_ = -(clf.coef_[0][0]*x_ponits + clf.intercept_)/clf.coef_[0][1]\n",
        "plt.plot(x_ponits, y_)\n",
        "\n",
        "plt.plot(data[:50, 0], data[:50, 1], 'bo', color='blue', label='0')\n",
        "plt.plot(data[50:100, 0], data[50:100, 1], 'bo', color='orange', label='1')\n",
        "plt.xlabel('sepal length')\n",
        "plt.ylabel('sepal width')\n",
        "plt.legend()"
      ],
      "execution_count": 29,
      "outputs": [
        {
          "output_type": "execute_result",
          "data": {
            "text/plain": [
              "<matplotlib.legend.Legend at 0x7f6294395da0>"
            ]
          },
          "metadata": {
            "tags": []
          },
          "execution_count": 29
        },
        {
          "output_type": "display_data",
          "data": {
            "image/png": "[encoded data removed]",
            "text/plain": [
              "<Figure size 432x288 with 1 Axes>"
            ]
          },
          "metadata": {
            "tags": []
          }
        }
      ]
    },
    {
      "cell_type": "code",
      "metadata": {
        "id": "4c5ruzQk4tD4",
        "colab_type": "code",
        "colab": {
          "base_uri": "https://localhost:8080/",
          "height": 35
        },
        "outputId": "20f54259-e688-4616-86da-8a6c84302ef0"
      },
      "source": [
        "clf.score(X, y)"
      ],
      "execution_count": 20,
      "outputs": [
        {
          "output_type": "execute_result",
          "data": {
            "text/plain": [
              "0.64"
            ]
          },
          "metadata": {
            "tags": []
          },
          "execution_count": 20
        }
      ]
    }
  ]
}